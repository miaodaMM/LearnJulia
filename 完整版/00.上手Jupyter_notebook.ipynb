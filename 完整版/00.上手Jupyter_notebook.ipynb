{
 "cells": [
  {
   "cell_type": "markdown",
   "metadata": {},
   "source": [
    "## 上手 Jupyter notebook\n",
    "\n",
    "### 目录\n",
    "- [运行代码块（cell）](#运行代码块（cell）)\n",
    "- [查看 Julia 的帮助文档](#使用-shell-命令)\n",
    "- [使用 shell 命令](#使用-shell-命令)"
   ]
  },
  {
   "cell_type": "markdown",
   "metadata": {},
   "source": [
    "### 运行代码块（cell）\n",
    "选中一个代码块之后（选中的代码块会被绿色矩形框起来），有以下几种方法可以运行它：\n",
    "1. 按下组合键 `Shift` + `Enter`\n",
    "2. 点击上方工具栏中的 **运行（Run）** 按钮\n",
    "3. 按下组合键 `Ctrl` + `Enter`"
   ]
  },
  {
   "cell_type": "code",
   "execution_count": null,
   "metadata": {},
   "outputs": [],
   "source": [
    "1 + 1\n",
    "2 + 2"
   ]
  },
  {
   "cell_type": "markdown",
   "metadata": {},
   "source": [
    "新手注意！执行一个代码块时默认打印最后一行。想要什么也不输出，在最后一行的行尾加上分号 `;` 就行了。如下所示"
   ]
  },
  {
   "cell_type": "code",
   "execution_count": null,
   "metadata": {},
   "outputs": [],
   "source": [
    "1 + 1\n",
    "2 + 2;"
   ]
  },
  {
   "cell_type": "markdown",
   "metadata": {},
   "source": [
    "### 查看 Julia 的帮助文档\n",
    "\n",
    "遇到不熟悉的 Julia 函数或语法，在函数名或表达式前加个问号 `?` 就可以查询对应的帮助文档。（在Julia的REPL中也好使哦！）"
   ]
  },
  {
   "cell_type": "code",
   "execution_count": null,
   "metadata": {},
   "outputs": [],
   "source": [
    "?println"
   ]
  },
  {
   "cell_type": "markdown",
   "metadata": {},
   "source": [
    "### 使用 shell 命令\n",
    "\n",
    "在 shell 命令前加上分号 `;` 即可，像这样：\n",
    "\n",
    "> 【译注】以下命令仅在 macOS 和 *nix 系统下可用"
   ]
  },
  {
   "cell_type": "code",
   "execution_count": null,
   "metadata": {},
   "outputs": [],
   "source": [
    ";ls"
   ]
  },
  {
   "cell_type": "code",
   "execution_count": null,
   "metadata": {},
   "outputs": [],
   "source": [
    ";pwd"
   ]
  },
  {
   "cell_type": "markdown",
   "metadata": {},
   "source": [
    "shell 命令在 Julia 的 REPL 中也好使哦！\n",
    "\n",
    "> 【译注】对于 Windows 系统，你需要使用 Windows cmd 命令，像这样："
   ]
  },
  {
   "cell_type": "code",
   "execution_count": null,
   "metadata": {},
   "outputs": [],
   "source": [
    ";cd"
   ]
  },
  {
   "cell_type": "markdown",
   "metadata": {},
   "source": [
    "但并不是所有的 cmd 命令都可以使用。如 `dir` 命令不可用，会报错"
   ]
  },
  {
   "cell_type": "code",
   "execution_count": null,
   "metadata": {},
   "outputs": [],
   "source": [
    ";dir"
   ]
  },
  {
   "cell_type": "markdown",
   "metadata": {},
   "source": [
    "中文社区的讨论贴\n",
    "- [Windows 中 Julia 的 shell 模式与 `;dir` 报错 - 综合讨论区 / 心得体会 - Julia中文社区](https://discourse.juliacn.com/t/topic/2890)"
   ]
  }
 ],
 "metadata": {
  "kernelspec": {
   "display_name": "Julia 1.0.5",
   "language": "julia",
   "name": "julia-1.0"
  },
  "language_info": {
   "file_extension": ".jl",
   "mimetype": "application/julia",
   "name": "julia",
   "version": "1.0.5"
  }
 },
 "nbformat": 4,
 "nbformat_minor": 2
}
